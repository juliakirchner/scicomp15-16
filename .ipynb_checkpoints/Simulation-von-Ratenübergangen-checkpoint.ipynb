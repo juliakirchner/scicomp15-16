{
 "cells": [
  {
   "cell_type": "markdown",
   "metadata": {},
   "source": [
    "### Der Gillespie Algorithmus zur Simulation von Ratenuebergaengen:\n",
    "\n",
    "Kann ein System aus einem Zustand $\\alpha$ ueber verschiedene Wege $R_{i= 0 \\dots (k − 1)}$ in verschiedene\n",
    "Zustaende $\\omega_i$ uebergehen, und sind die Raten $r_i$ der Uebergaenge bekannt, so ist die\n",
    "Gesamtrate $r$, mit der der Zustand $\\alpha$ verlassen wird gleich der Summe der einzelnen Raten\n",
    "$r = \\sum_{i=0}^{k-1} r_i$. Hierbei wird implizit angenommen, dass das System durch eine Ratengleichung\n",
    "beschrieben werden kann, was im allgemeinen der Fall ist, wenn die Zeit zwischen den\n",
    "Uebergaengen groß ist im Vergleich zu der Zeit, die das System braucht, um nach einer Reaktion\n",
    "wieder das thermische Gleichgewicht zu erreichen. Die Zeit $\\tau_\\alpha$, die das System im Zustand $\\alpha$\n",
    "verbringt, ist exponentiell verteilt mit Wahrscheinlichkeitsdichte $p(\\tau) = r exp(−r\\tau)$. Verlaesst\n",
    "das System den Zustand $\\alpha$ nach der zufaelligen Verweildauer $\\tau_\\alpha$, so geschieht dies ueber einen\n",
    "der moeglichen Reaktionswege $R_i$ mit einer Wahrscheinlichkeit $p_i = r_i/r$, also proportional zu\n",
    "$r_i$. Der Gillespie Algorithmus erzeugt eine Zufallsfolge von Zustaenden $\\alpha_n$ und Verweildauern $\\tau_n$."
   ]
  },
  {
   "cell_type": "code",
   "execution_count": 8,
   "metadata": {
    "collapsed": false
   },
   "outputs": [
    {
     "name": "stdout",
     "output_type": "stream",
     "text": [
      "0.43030634462475165\n"
     ]
    }
   ],
   "source": [
    "import numpy as np\n",
    "%matplotlib inline\n",
    "from pylab import *\n",
    "\n",
    "k = 5\n",
    "r = np.random.rand(k)\n",
    "\n",
    "def simulation(r):\n",
    "    total_r = np.sum(r)\n",
    "    tau_alpha = np.random.exponential(scale = 1/(total_r)**2)\n",
    "    print(tau_alpha)\n",
    "    \n",
    "simulation(r)"
   ]
  },
  {
   "cell_type": "code",
   "execution_count": null,
   "metadata": {
    "collapsed": true
   },
   "outputs": [],
   "source": []
  }
 ],
 "metadata": {
  "kernelspec": {
   "display_name": "Python 3",
   "language": "python",
   "name": "python3"
  },
  "language_info": {
   "codemirror_mode": {
    "name": "ipython",
    "version": 3
   },
   "file_extension": ".py",
   "mimetype": "text/x-python",
   "name": "python",
   "nbconvert_exporter": "python",
   "pygments_lexer": "ipython3",
   "version": "3.4.3"
  }
 },
 "nbformat": 4,
 "nbformat_minor": 0
}
