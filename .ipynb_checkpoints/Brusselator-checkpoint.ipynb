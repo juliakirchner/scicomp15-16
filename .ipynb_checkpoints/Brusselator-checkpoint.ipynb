{
 "cells": [
  {
   "cell_type": "code",
   "execution_count": null,
   "metadata": {
    "collapsed": true
   },
   "outputs": [],
   "source": [
    "import numpy as np\n",
    "%matplotlib inline\n",
    "from pylab import *"
   ]
  },
  {
   "cell_type": "code",
   "execution_count": null,
   "metadata": {
    "collapsed": false
   },
   "outputs": [],
   "source": [
    "nY00 = 2000\n",
    "nY10 = 1000\n",
    "\n",
    "gamma0 = 5000\n",
    "gamma1 = 50\n",
    "gamma2 = 5 * 10**(-5)\n",
    "gamma3 = 5\n",
    "gamma = np.array([gamma0, gamma1, gamma2, gamma3])\n",
    "\n",
    "n0 = np.array([nY00, nY10])\n",
    "\n",
    "nu0 = np.array([+1, 0])\n",
    "nu1 = np.array([0, +1])\n",
    "nu2 = np.array([+1, -1])\n",
    "nu3 = np.array([-1, 0])\n",
    "nu = [nu0, nu1, nu2, nu3]\n",
    "\n",
    "t_max = 14\n",
    "\n",
    "def calculate_r(n, gamma):\n",
    "    r0 = gamma[0] \n",
    "    r1 = gamma[1] * n[0]\n",
    "    r2 = gamma[2] * n[0] * (n[0]-1)/2 * n[1]\n",
    "    r3 = gamma[3] * n[0]\n",
    "    r = [r0, r1, r2, r3]\n",
    "    return r\n",
    "\n",
    "def reaction(n0, nu, gamma, t_max):\n",
    "    t = 0\n",
    "    n = n0\n",
    "\n",
    "    while t < t_max:\n",
    "        r = calculate_r(n, gamma)\n",
    "        r_tot = sum(r)\n",
    "        if r_tot==5000:\n",
    "            break\n",
    "        dt = np.random.uniform()\n",
    "        dt = (1/r_tot) * np.log(1/dt)\n",
    "        t = t + dt\n",
    "        i = np.random.uniform()\n",
    "        i = np.argmax(i<np.cumsum(r)/r_tot)\n",
    "        n = n + nu[i]\n",
    "        #print(sum(r))\n",
    "        yield t, n\n",
    " \n",
    "t, n = zip(*list(reaction(n0, nu, gamma, t_max)))\n",
    "n = np.array(n).T\n",
    "t = np.array(t)\n",
    "plot(t, n[0], label=\"Simulation $y_0$\")"
   ]
  },
  {
   "cell_type": "code",
   "execution_count": null,
   "metadata": {
    "collapsed": false
   },
   "outputs": [],
   "source": []
  },
  {
   "cell_type": "code",
   "execution_count": null,
   "metadata": {
    "collapsed": false
   },
   "outputs": [],
   "source": []
  },
  {
   "cell_type": "code",
   "execution_count": null,
   "metadata": {
    "collapsed": true
   },
   "outputs": [],
   "source": []
  }
 ],
 "metadata": {
  "kernelspec": {
   "display_name": "Python 3",
   "language": "python",
   "name": "python3"
  },
  "language_info": {
   "codemirror_mode": {
    "name": "ipython",
    "version": 3
   },
   "file_extension": ".py",
   "mimetype": "text/x-python",
   "name": "python",
   "nbconvert_exporter": "python",
   "pygments_lexer": "ipython3",
   "version": "3.4.3"
  }
 },
 "nbformat": 4,
 "nbformat_minor": 0
}
