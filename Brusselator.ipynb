{
 "cells": [
  {
   "cell_type": "code",
   "execution_count": 2,
   "metadata": {
    "collapsed": true
   },
   "outputs": [],
   "source": [
    "import numpy as np\n",
    "%matplotlib inline\n",
    "from pylab import *"
   ]
  },
  {
   "cell_type": "code",
   "execution_count": 59,
   "metadata": {
    "collapsed": false
   },
   "outputs": [
    {
     "data": {
      "text/plain": [
       "[<matplotlib.lines.Line2D at 0x7fdcbae9a588>]"
      ]
     },
     "execution_count": 59,
     "metadata": {},
     "output_type": "execute_result"
    },
    {
     "data": {
      "image/png": "[encoded data removed]",
      "text/plain": [
       "<matplotlib.figure.Figure at 0x7fdcba9b3390>"
      ]
     },
     "metadata": {},
     "output_type": "display_data"
    }
   ],
   "source": [
    "nX00 = nY00 = 1000\n",
    "nX10 = nY10 = 2000\n",
    "#nZ00 = 1000   das muss doch null sein oder? müsste also 0 sein\n",
    "#nZ10 = 1000   und das hier auch, weil das immer gleich weggenommen wird\n",
    "\n",
    "gamma0 = 5000\n",
    "gamma1 = 50\n",
    "gamma2 = 5 * 10**(-5)\n",
    "gamma3 = 5\n",
    "gamma = np.array([gamma0, gamma1, gamma2, gamma3])\n",
    "\n",
    "n0 = np.array([nX00, nX10, nY00, nY10])\n",
    "\n",
    "nu0 = np.array([0, 0, +1, 0])\n",
    "nu1 = np.array([0, 0, 0, +1])\n",
    "nu2 = np.array([0, 0, +1, -1])\n",
    "nu3 = np.array([0, 0, -1, 0])\n",
    "nu = [nu0, nu1, nu2, nu3]\n",
    "t_max = 1000 #t_max soll doch 14s sein ...\n",
    "\n",
    "def calculate_r(n, gamma):\n",
    "    r0 = gamma[0]\n",
    "    r1 = gamma[1] * n[2]\n",
    "    r2 = gamma[2] * n[2] * ((n[2]-1)/2) * n[3]\n",
    "    r3 = gamma[3] * n[2]\n",
    "    r = [r0, r1, r2, r3]\n",
    "    return r # irgendwas funktioniert nicht so ganz mit der Funktion...\n",
    "\n",
    "#def my_cumsum(r, r_tot, x):\n",
    "#    my_sum = 0\n",
    "#    for i in range(0, 4):\n",
    "#        my_sum = r[i] + my_sum\n",
    "#        print(i)\n",
    "#        if (my_sum - r[i])/r_tot < x and x <= my_sum/r_tot:\n",
    "#            return i\n",
    "\n",
    "def reaction(n0, nu, gamma, t_max):\n",
    "    t = 0\n",
    "    n = n0\n",
    "\n",
    "    for i in range(0, 10**5): # das i nutzt du doch auch nicht oder überseh ich was?\n",
    "        r = calculate_r(n, gamma)\n",
    "        r_tot = sum(r)\n",
    "        if r_tot==0:  # ich würde vermuten, dass hier der Fehler ist; r_tot wird nie 0, weil ja immer x_0 und x_1 da sind; r_tot ist immer min. 5000, oder?\n",
    "            break\n",
    "        dt = np.random.uniform()\n",
    "        dt = (1/r_tot) * np.log(1/dt)\n",
    "        t = t + dt\n",
    "        #x = np.random.uniform()\n",
    "        #n = n + nu[my_cumsum(r, r_tot, x)]\n",
    "        i = np.random.uniform()\n",
    "        i = np.argmax(i<np.cumsum(r)/r_tot)\n",
    "        n = n + nu[i]\n",
    "        #print(i)\n",
    "        yield t, n\n",
    " \n",
    "t, n = zip(*list(reaction(n0, nu, gamma, t_max)))\n",
    "n = np.array(n).T\n",
    "t = np.array(t)\n",
    "#xlim((0.06,0.14))\n",
    "#ylim((1300, 1500))\n",
    "plot(n[2], n[3], label=\"Simulation $y_0$\")"
   ]
  },
  {
   "cell_type": "code",
   "execution_count": 52,
   "metadata": {
    "collapsed": false
   },
   "outputs": [],
   "source": [
    "np.random.uniform?"
   ]
  }
 ],
 "metadata": {
  "kernelspec": {
   "display_name": "Python 3",
   "language": "python",
   "name": "python3"
  },
  "language_info": {
   "codemirror_mode": {
    "name": "ipython",
    "version": 3
   },
   "file_extension": ".py",
   "mimetype": "text/x-python",
   "name": "python",
   "nbconvert_exporter": "python",
   "pygments_lexer": "ipython3",
   "version": "3.4.3"
  }
 },
 "nbformat": 4,
 "nbformat_minor": 0
}
