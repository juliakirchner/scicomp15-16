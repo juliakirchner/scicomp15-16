{
 "cells": [
  {
   "cell_type": "code",
   "execution_count": 2,
   "metadata": {
    "collapsed": true
   },
   "outputs": [],
   "source": [
    "import numpy as np\n",
    "%matplotlib inline\n",
    "from pylab import *"
   ]
  },
  {
   "cell_type": "code",
   "execution_count": 10,
   "metadata": {
    "collapsed": false
   },
   "outputs": [
    {
     "data": {
      "text/plain": [
       "[<matplotlib.lines.Line2D at 0x7f469f952048>]"
      ]
     },
     "execution_count": 10,
     "metadata": {},
     "output_type": "execute_result"
    },
    {
     "data": {
      "image/png": "[encoded data removed]",
      "text/plain": [
       "<matplotlib.figure.Figure at 0x7f469f92f208>"
      ]
     },
     "metadata": {},
     "output_type": "display_data"
    }
   ],
   "source": [
    "nX00 = nY00 = 1000\n",
    "nX10 = nY10 = 2000\n",
    "nZ00 = 0\n",
    "nZ10 = 0\n",
    "gamma0 = 5000\n",
    "gamma1 = 50\n",
    "gamma2 = 5 * 10**(-5)\n",
    "gamma3 = 5\n",
    "gamma = np.array([gamma0, gamma1, gamma2, gamma3])\n",
    "V = 1\n",
    "n0 = np.array([nX00, nX10, nY00, nY10, nZ00, nZ10])\n",
    "\n",
    "nu0 = np.array([0, 0, +1, 0, 0, 0])\n",
    "nu1 = np.array([0, 0, 0, +1, +1, 0])\n",
    "nu2 = np.array({0, 0, +1, -1, 0, 0})\n",
    "nu3 = np.array([0, 0, -1, 0, 0, +1])\n",
    "nu = [nu0, nu1, nu2, nu3]\n",
    "t_max = 1000\n",
    "\n",
    "def calculate_r(n, gamma):\n",
    "    r0 = gamma[0] * n[0]\n",
    "    r1 = gamma[1] * n[1]\n",
    "    r2 = gamma[2] * n[3] * n[4]\n",
    "    r3 = gamma[3] * n[3]\n",
    "    r = [r0, r1, r2, r3]\n",
    "    return r\n",
    "\n",
    "def reaction(V, n0, nu, gamma, t_max):\n",
    "    t = 0\n",
    "    n = n0\n",
    "\n",
    "    for i in range(0, 1000):\n",
    "        r = calculate_r(n, gamma)\n",
    "        r_tot = sum(r)\n",
    "        if r_tot==0:\n",
    "            break\n",
    "        dt = np.random.exponential(scale = 1/r_tot)\n",
    "        t = t + dt\n",
    "        i = np.random.rand()\n",
    "        i = np.argmax(i<np.cumsum(r)/r_tot)\n",
    "        n = n + nu[i]\n",
    "        yield t, n\n",
    "        \n",
    "t, n = zip(*list(reaction(V, n0, nu, gamma, t_max)))\n",
    "n = np.array(n).T\n",
    "t = np.array(t)\n",
    "#plot(t, n[2] / n0[2], label=\"Simulation $y_0$\")\n",
    "#plot(t, n[3] / n0[3], 'r', label=\"Simulation $y_1$\")\n",
    "plot(t, n[2], label=\"Simulation $y_0$\")\n",
    "plot(t, n[3], 'r', label=\"Simulation $y_1$\")"
   ]
  }
 ],
 "metadata": {
  "kernelspec": {
   "display_name": "Python 3",
   "language": "python",
   "name": "python3"
  },
  "language_info": {
   "codemirror_mode": {
    "name": "ipython",
    "version": 3
   },
   "file_extension": ".py",
   "mimetype": "text/x-python",
   "name": "python",
   "nbconvert_exporter": "python",
   "pygments_lexer": "ipython3",
   "version": "3.4.3"
  }
 },
 "nbformat": 4,
 "nbformat_minor": 0
}
