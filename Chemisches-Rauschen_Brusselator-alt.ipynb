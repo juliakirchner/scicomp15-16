{
 "cells": [
  {
   "cell_type": "markdown",
   "metadata": {
    "collapsed": true
   },
   "source": [
    "## Projekt - Chemisches Rauschen "
   ]
  },
  {
   "cell_type": "markdown",
   "metadata": {},
   "source": [
    "Chemische Reaktionen finden zwischen einzelnen Teilchen statt. Die Anzahl verschiedener\n",
    "Teilchen in einem System ist hierbei aus der Menge der natuerlichen Zahlen. Wird ein Teilchen\n",
    "umgewandelt verringert sich die Anzahl der entsprechenden Teilchensorte und die Anzahl\n",
    "der Teilchen des Reaktionsproduktes erhoeht sich. Die Zeitpunkte an denen diese Uebergaenge\n",
    "stattfinden sind zufaellig. Nichtsdestotrotz werden chemische Reaktionen oft sehr genau durch\n",
    "Differentialgleichungen fuer die Konzentrationen der Stoffe beschrieben. In diesem Projekt\n",
    "sollen der Gillespie Algorithmus zur stochastischen Simulation von chemischen Reaktionen\n",
    "erarbeitet, und einige der Simulationen in den urspruenglichen Artikeln [1, 2] nachvollzogen\n",
    "werden. \n",
    "\n",
    "Belesen Sie sich zunaechst zu den Themen *chemische Kinetik*, *Gillespie Algorithmus*,\n",
    "*Exponential-* und *Gammaverteilung* und schauen Sie sich die Artikel [1, 2] an!"
   ]
  },
  {
   "cell_type": "markdown",
   "metadata": {},
   "source": [
    "#### Beispiel 2 : Brusselator"
   ]
  },
  {
   "cell_type": "markdown",
   "metadata": {},
   "source": [
    "Als naechstes soll eine Reaktion mit dynamischer Instabilitaet untersucht werden, das sogenannte\n",
    "Brusselatormodell. Dieses wird durch die folgenden Reaktionen beschrieben :\n",
    "\n",
    "$$\n",
    "\\begin{eqnarray}\n",
    "R_0 &:& X_0 \\to X_0 + Y_0 \\\\\n",
    "R_1 &:& X_1 \\to X_1 + Y_1 + Z_0 \\\\\n",
    "R_2 &:& 2Y_0 + Y_1 \\to 3Y_0\\\\\n",
    "R_3 &:& Y_0 \\to Z_1\n",
    "\\end{eqnarray}\n",
    "$$\n",
    "\n",
    "Teilchen der Sorte $X_i$ bilden die Resourcen der chemischen Reaktion. Da die Resourcen\n",
    "waehrend der Reaktion konstant gehalten werden sollen, haben wir die rechten Seiten der\n",
    "Reaktionen $R_0$ und $R_1$ einfach ergaenzt. In Reaktion $R_0$ bedeutet dies z.B., dass jedesmal\n",
    "wenn ein Teilchen $X_0$ in $Y_0$ umgewandelt wird, ein weiteres Teilchen $X_0$ dem System hinzugegeben\n",
    "wird. Die Konzentrationen der Endprodukte $Z_i$ sind fuer die Uebergangsraten und die Konzentrationen der uns interessierenden Zwischenprodukte $Y_i$ nicht relevant.\n",
    "\n",
    "- Schreiben Sie zunaechst mit Hilfe der chemischen Reaktionsraten $k_i$ die Differentialgleichungen\n",
    "fuer die Konzentrationen $y_0$ und $y_1$ der Teilchen $Y_0$ und $Y_1$ auf. \n",
    "- Druecken Sie nun die Konzentration durch Teilchenzahl und Volumen aus, und bestimmen Sie die Uebergangsraten\n",
    "$r_i\\left(\\vec{N} ,\\vec{k}, V \\right)$ im System. Im Originalpapier von Gillespie [2] werden die Systemparameter\n",
    "$\\gamma_0 = k_0N_{X_0} = 5000s^{−1}$, $\\gamma_1 = k_1N_{X_1}/V = 50s^{−1}$, $\\gamma_2 = k_2/V^2 = 5 × 10^{−5}s^{−1}$ und $\\gamma_3 = k_3 = 5s^{−1}$ verwendet, wodurch die Uebergangsraten auch als $r_i\\left(\\vec{N} ,\\vec{\\gamma}\\right)$ geschrieben werden koennen.\n",
    "- Simulieren Sie das stochastische System von chemischen Reaktionen fuer $N_{Y_0}(t = 0) = 1000$\n",
    "und $N_{Y_1}(t = 0) = 2000$ fuer $2×10^6$ Reaktionsuebergaenge und plotten Sie $N_{Y_1}$ gegen $N_{Y_2}$ , sowie\n",
    "jeweils $N_{Y_1}(t_n)$ und $N_{Y_2}(t_n)$ nach den Reaktionszeitpunkten $t_n$ fuer $0s < t_n < 14s$."
   ]
  },
  {
   "cell_type": "code",
   "execution_count": 1,
   "metadata": {
    "collapsed": true
   },
   "outputs": [],
   "source": [
    "import numpy as np\n",
    "%matplotlib inline\n",
    "from pylab import *"
   ]
  },
  {
   "cell_type": "code",
   "execution_count": 3,
   "metadata": {
    "collapsed": false
   },
   "outputs": [
    {
     "data": {
      "text/plain": [
       "[<matplotlib.lines.Line2D at 0x135a20d0>]"
      ]
     },
     "execution_count": 3,
     "metadata": {},
     "output_type": "execute_result"
    },
    {
     "data": {
      "image/png": "[encoded data removed]",
      "text/plain": [
       "<matplotlib.figure.Figure at 0x62bdb50>"
      ]
     },
     "metadata": {},
     "output_type": "display_data"
    }
   ],
   "source": [
    "nX00 = nY00 = 1000\n",
    "nX10 = nY10 = 2000\n",
    "nZ00 = 0\n",
    "nZ10 = 0\n",
    "gamma0 = 5000\n",
    "gamma1 = 50\n",
    "gamma2 = 5 * 10**(-5)\n",
    "gamma3 = 5\n",
    "gamma = np.array([gamma0, gamma1, gamma2, gamma3])\n",
    "V = 1\n",
    "brus_n0 = np.array([nX00, nX10, nY00, nY10, nZ00, nZ10])\n",
    "\n",
    "brus_nu0 = np.array([0, 0, +1, +0, 0, 0])\n",
    "brus_nu1 = np.array([0, 0, +0, +1, 0, 0])\n",
    "brus_nu2 = np.array([0, 0, +1, -1, 0, 0])\n",
    "brus_nu3 = np.array([0, 0, -1, +0, 0, 0])\n",
    "brus_nu = [brus_nu0, brus_nu1, brus_nu2, brus_nu3]\n",
    "brus_t_max = 14\n",
    "\n",
    "def brus_calculate_r(brus_n, gamma, V):\n",
    "    brus_r0 = gamma[0] \n",
    "    brus_r1 = gamma[1] \n",
    "    brus_r2 = gamma[2]  * (brus_n[2]-1)/2 * brus_n[2] * brus_n[3]\n",
    "    brus_r3 = gamma[3] * V * brus_n[2]\n",
    "    brus_r = [brus_r0, brus_r1, brus_r2, brus_r3]\n",
    "    return brus_r\n",
    "\n",
    "def reaction(V, brus_n0, brus_nu, gamma, brus_t_max):\n",
    "    brus_t = 0\n",
    "    brus_n = brus_n0\n",
    "\n",
    "    while brus_t < brus_t_max:\n",
    "        brus_r = brus_calculate_r(brus_n, gamma, V)\n",
    "        brus_r_tot = sum(brus_r)\n",
    "       \n",
    "        brus_dt = np.random.exponential(scale=1/brus_r_tot)\n",
    "        brus_t = brus_t + brus_dt\n",
    "        brus_i = np.random.rand()\n",
    "        brus_i = np.argmax(brus_i<np.cumsum(brus_r)/brus_r_tot)\n",
    "        brus_n = brus_n + brus_nu[brus_i]\n",
    "        yield brus_t, brus_n\n",
    "        \n",
    "brus_t, brus_n = zip(*list(reaction(V, brus_n0, brus_nu, gamma, brus_t_max)))\n",
    "brus_n = np.array(brus_n).T\n",
    "brus_t = np.array(brus_t)\n",
    "plot(brus_t, brus_n[2] , label=\"Simulation $y_0$\")\n",
    "plot(brus_t, brus_n[3], 'r', label=\"Simulation $y_1$\")"
   ]
  },
  {
   "cell_type": "code",
   "execution_count": null,
   "metadata": {
    "collapsed": true
   },
   "outputs": [],
   "source": []
  }
 ],
 "metadata": {
  "kernelspec": {
   "display_name": "Python 3",
   "language": "python",
   "name": "python3"
  },
  "language_info": {
   "codemirror_mode": {
    "name": "ipython",
    "version": 3
   },
   "file_extension": ".py",
   "mimetype": "text/x-python",
   "name": "python",
   "nbconvert_exporter": "python",
   "pygments_lexer": "ipython3",
   "version": "3.4.3"
  }
 },
 "nbformat": 4,
 "nbformat_minor": 0
}
