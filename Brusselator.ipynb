{
 "cells": [
  {
   "cell_type": "code",
   "execution_count": 8,
   "metadata": {
    "collapsed": true
   },
   "outputs": [],
   "source": [
    "import numpy as np\n",
    "%matplotlib inline\n",
    "from pylab import *"
   ]
  },
  {
   "cell_type": "code",
   "execution_count": 66,
   "metadata": {
    "collapsed": false
   },
   "outputs": [
    {
     "data": {
      "text/plain": [
       "[<matplotlib.lines.Line2D at 0x7efbcf882048>]"
      ]
     },
     "execution_count": 66,
     "metadata": {},
     "output_type": "execute_result"
    },
    {
     "data": {
      "image/png": "[encoded data removed]",
      "text/plain": [
       "<matplotlib.figure.Figure at 0x7efbcf923fd0>"
      ]
     },
     "metadata": {},
     "output_type": "display_data"
    }
   ],
   "source": [
    "nY00 = 2000\n",
    "nY10 = 1000\n",
    "\n",
    "gamma0 = 5000\n",
    "gamma1 = 50\n",
    "gamma2 = 5 * 10**(-5)\n",
    "gamma3 = 5\n",
    "gamma = np.array([gamma0, gamma1, gamma2, gamma3])\n",
    "\n",
    "n0 = np.array([nY00, nY10])\n",
    "\n",
    "nu0 = np.array([+1, 0])\n",
    "nu1 = np.array([0, +1])\n",
    "nu2 = np.array([+1, -1])\n",
    "nu3 = np.array([-1, 0])\n",
    "nu = [nu0, nu1, nu2, nu3]\n",
    "\n",
    "t_max = 1000\n",
    "\n",
    "def calculate_r(n, gamma):\n",
    "    r0 = gamma[0] \n",
    "    r1 = gamma[1] * n[0]\n",
    "    r2 = gamma[2] * n[0] * (n[0]-1)/2 * n[1]\n",
    "    r3 = gamma[3] * n[0]\n",
    "    r = [r0, r1, r2, r3]\n",
    "    return r\n",
    "\n",
    "def reaction(n0, nu, gamma, t_max):\n",
    "    t = 0\n",
    "    n = n0\n",
    "\n",
    "    for m in range(0, 5 * 10**4):\n",
    "        r = calculate_r(n, gamma)\n",
    "        r_tot = sum(r)\n",
    "        if r_tot==0:\n",
    "            break\n",
    "        dt = np.random.uniform()\n",
    "        dt = (1/r_tot) * np.log(1/dt)\n",
    "        t = t + dt\n",
    "        i = np.random.uniform()\n",
    "        i = np.argmax(i<np.cumsum(r)/r_tot)\n",
    "        n = n + nu[i]\n",
    "        #print(sum(r))\n",
    "        yield t, n\n",
    " \n",
    "t, n = zip(*list(reaction(n0, nu, gamma, t_max)))\n",
    "n = np.array(n).T\n",
    "t = np.array(t)\n",
    "plot(t, n[0], label=\"Simulation $y_0$\")"
   ]
  },
  {
   "cell_type": "code",
   "execution_count": 27,
   "metadata": {
    "collapsed": false
   },
   "outputs": [
    {
     "data": {
      "image/png": "[encoded data removed]",
      "text/plain": [
       "<matplotlib.figure.Figure at 0x7efbd3538a58>"
      ]
     },
     "metadata": {},
     "output_type": "display_data"
    }
   ],
   "source": [
    "from matplotlib import pyplot as plt\n",
    "\n",
    "def calculator( a, b, x0, y0 ):\n",
    "    def dot_x(x, y):\n",
    "        return 1 - ( a + 1 ) * x + a * x * x * y\n",
    "\n",
    "    def dot_y(x, y):\n",
    "        return b * x * ( 1 - x * y )\n",
    "    \n",
    "    X, Y = [], []\n",
    "\n",
    "    x = 0\n",
    "    y = 0\n",
    "\n",
    "    count = 2000\n",
    "    dt = 1e-2\n",
    "    \n",
    "    for i in range(count):\n",
    "        X.append(x)\n",
    "        Y.append(y)\n",
    "\n",
    "        m1 = dot_x(x, y) * dt\n",
    "        n1 = dot_y(x, y) * dt\n",
    "\n",
    "        m2 = dot_x(x + m1 / 2, y + n1 / 2) * dt\n",
    "        n2 = dot_y(x + m1 / 2, y + n1 / 2) * dt\n",
    "\n",
    "        m3 = dot_x(x + m2 / 2, y + n2 / 2) * dt\n",
    "        n3 = dot_y(x + m2 / 2, y + n2 / 2) * dt\n",
    "\n",
    "        m4 = dot_x(x + m3, y + n3) * dt\n",
    "        n4 = dot_y(x + m3, y + n3) * dt\n",
    "\n",
    "        x = x + (m1 + 2 * m2 + 2 * m3 + m4) / 6\n",
    "        y = y + (n1 + 2 * n2 + 2 * n3 + n4) / 6\n",
    "    return X, Y\n",
    "\n",
    "x, y = calculator( 3, 1, 0, 0 )\n",
    "plt.plot(x, y)\n",
    "\n",
    "plt.cla()\n",
    "t = [1e-2 * i for i in range(len(x))]\n",
    "p1 = plt.plot(t, x)\n",
    "p2 = plt.plot(t, y)\n",
    "#p3 = plt.plot(x, y)\n",
    "\n",
    "plt.show()\n"
   ]
  },
  {
   "cell_type": "code",
   "execution_count": 29,
   "metadata": {
    "collapsed": false
   },
   "outputs": [
    {
     "ename": "SyntaxError",
     "evalue": "Missing parentheses in call to 'print' (<ipython-input-29-039d131119c8>, line 53)",
     "output_type": "error",
     "traceback": [
      "\u001b[1;36m  File \u001b[1;32m\"<ipython-input-29-039d131119c8>\"\u001b[1;36m, line \u001b[1;32m53\u001b[0m\n\u001b[1;33m    print cnSolver\u001b[0m\n\u001b[1;37m                 ^\u001b[0m\n\u001b[1;31mSyntaxError\u001b[0m\u001b[1;31m:\u001b[0m Missing parentheses in call to 'print'\n"
     ]
    }
   ],
   "source": [
    "# Local imports\n",
    "import setpath\n",
    "from   BC.Dirichlet  import *\n",
    "from   Brusselator   import *\n",
    "from   CrankNicolson import *\n",
    "from   Grid          import *\n",
    "from   Field         import *\n",
    "\n",
    "# Define a 1D uniform grid\n",
    "n    = 11\n",
    "x    = Coordinate(\"x\",n)\n",
    "grid = OrthogonalGrid(x)\n",
    "\n",
    "# Define the Unknowns\n",
    "speciesX = Unknown(\"X\", grid, \"Species X\")\n",
    "speciesY = Unknown(\"Y\", grid, \"Species Y\")\n",
    "\n",
    "# Define parameters of Brusselator problem\n",
    "a  = 0.6\n",
    "b  = 2.0\n",
    "d1 = 0.025\n",
    "d2 = 0.025\n",
    "bParams = BrusselatorParameters(a,b,d1,d2)\n",
    "\n",
    "# Create the Brusselator modules\n",
    "brussX = BrusselatorX(\"X-Brusselator\",\n",
    "               bParams, speciesX, speciesY)\n",
    "brussY = BrusselatorY(\"Y-Brusselator\",\n",
    "               bParams, speciesX, speciesY)\n",
    "\n",
    "# Define the boundary conditions\n",
    "bcx0 = Dirichlet(speciesX[ 0], a  )\n",
    "bcx1 = Dirichlet(speciesX[-1], a  )\n",
    "bcy0 = Dirichlet(speciesY[ 0], b/a)\n",
    "bcy1 = Dirichlet(speciesY[-1], b/a)\n",
    "\n",
    "# Create the Crank Nicolson solver, add the\n",
    "# Brusselators to it, and add the boundary\n",
    "# conditions to it\n",
    "cnSolver = CrankNicolson(0.5, endTime=20.0)\n",
    "cnSolver.addPhysicsModule(brussX)\n",
    "cnSolver.addPhysicsModule(brussY)\n",
    "cnSolver.addPhysicsModule(bcx0)\n",
    "cnSolver.addPhysicsModule(bcx1)\n",
    "cnSolver.addPhysicsModule(bcy0)\n",
    "cnSolver.addPhysicsModule(bcy1)\n",
    "\n",
    "# Create the state, residual and exact\n",
    "# BlockArrays, and initialize all physics\n",
    "# modules\n",
    "cnSolver.openIOFile(\"Brusselator1_cn.nc\")\n",
    "cnSolver.initialize()\n",
    "print cnSolver\n",
    "\n",
    "# Assign the initial conditions\n",
    "stateVector = cnSolver.getBlockState()\n",
    "stateVector.setArrayToPoly(speciesX,[a, \n",
    "                           1.0,-1.0])\n",
    "stateVector.setArrayToPoly(speciesY,[b/a,\n",
    "                           10,-1.0])\n",
    "\n",
    "# Execute the forward Euler problem\n",
    "cnSolver.execute()"
   ]
  }
 ],
 "metadata": {
  "kernelspec": {
   "display_name": "Python 3",
   "language": "python",
   "name": "python3"
  },
  "language_info": {
   "codemirror_mode": {
    "name": "ipython",
    "version": 3
   },
   "file_extension": ".py",
   "mimetype": "text/x-python",
   "name": "python",
   "nbconvert_exporter": "python",
   "pygments_lexer": "ipython3",
   "version": "3.4.3"
  }
 },
 "nbformat": 4,
 "nbformat_minor": 0
}
